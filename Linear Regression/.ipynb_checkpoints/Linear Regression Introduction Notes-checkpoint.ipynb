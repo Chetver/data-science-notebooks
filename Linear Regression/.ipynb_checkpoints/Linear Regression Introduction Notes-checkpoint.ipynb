{
 "cells": [
  {
   "cell_type": "markdown",
   "metadata": {},
   "source": [
    "# Linear Regression\n",
    "\n",
    "Regression Model -> values drifting/regressing towards to average/mean\n",
    "\n",
    "Linear Regression:\n",
    "> A linear approximation of the causal relationship between two or more variables.\n",
    "\n",
    "**OLS** = **O**rdinary **L**east **S**quares\n",
    "\n",
    "**MAE** = **M**inimum **A**bsolute **E**rror\n",
    "\n",
    "**SST** = **S**um of **S**quares **T**otal\n",
    "\n",
    "**SSR** = **S**um of **S**quares **R**egression\n",
    "\n",
    "**SSE** = **S**um of **S**quares of **E**rrors"
   ]
  },
  {
   "cell_type": "markdown",
   "metadata": {},
   "source": [
    "---\n",
    "Pearsons Coefficient is regularly used.\n",
    "   - Values between -1 and 1\n",
    "   \n",
    "https://en.wikipedia.org/wiki/Pearson_correlation_coefficient"
   ]
  },
  {
   "cell_type": "markdown",
   "metadata": {},
   "source": [
    "---\n",
    "## Process\n",
    "\n",
    "1. Samples (aquiring)\n",
    "2. Create Model for samples\n",
    "3. Make predictions for the entire population"
   ]
  },
  {
   "cell_type": "markdown",
   "metadata": {},
   "source": [
    "$$y=\\beta_0 + \\beta_1 x_1 + \\epsilon $$\n",
    "\n",
    "Where:\n",
    "- $y$ = Dependant variable, Predicted Variable\n",
    "- $x_1$ = Independant variable, Predictor variable, Regressors"
   ]
  },
  {
   "cell_type": "markdown",
   "metadata": {},
   "source": [
    "---\n",
    "**Example**\n",
    "\n",
    "$y$ = Income\n",
    "\n",
    "$x$ = Education\n",
    "\n",
    "$\\beta_1 = 50$\n",
    "\n",
    "$\\beta_1 \\rightarrow$ quantifies the effect of education on income.\n",
    "\n",
    "unit increase in education $\\rightarrow$ 50 times income increase\n",
    "\n",
    "$y=\\beta_0 + \\epsilon$\n",
    "\n",
    "$\\beta_0$ is the minimum wage a person can earn\n",
    "\n",
    "$\\epsilon \\rightarrow$ error of estimation\n",
    "\n",
    "The Error of Estimation is the different between the actual values from the sample data and the predicted values from the model."
   ]
  },
  {
   "cell_type": "markdown",
   "metadata": {},
   "source": [
    "---\n",
    "## Sample Data\n",
    "\n",
    "Sample data should be split into training and testing data.\n",
    "   - This is typically split 75% training, 25% testing"
   ]
  },
  {
   "cell_type": "markdown",
   "metadata": {},
   "source": [
    "---\n",
    "Anovo framework - Analysis of Variance\n",
    "\n",
    "1. SST/TSS\n",
    "    - Square of the deifference between observed dependant variable and it's mean.\n",
    "    - Sometimes referred to as the: Total variablity of the dataset\n",
    "2. SSR (aka ESS)\n",
    "    - Square of the difference between the predictied variable and the mean of the dependant variable.\n",
    "    - Describes how well the line fits the data\n",
    "    - Sometimes referred to as: ESS - Explained Sum of Scores\n",
    "    - SSR=SST - Regression model captures all the variability, and is perfect.\n",
    "3. SSE (aka RSS)\n",
    "    - Some of Square Errors\n",
    "    - AKA: RSS - Residual Sum of Squares\n",
    "    - Measures the unexplained variability of the regression\n",
    "    - The difference between the observed value and the predicted value\n",
    "\n",
    "$$\n",
    "\\begin{align}\n",
    "\\text{Total Variability} &= \\text{Explained variability} + \\text{Unexplained Variability}\\\\\n",
    "\\text{SST} &= \\text{SSR} + \\text{SSE}\\\\\n",
    "\\text{Actual Value} &= \\text{Predicted Value} + \\text{Error}\n",
    "\\end{align}\n",
    "$$\n",
    "\n",
    "The lower the error, the better the model. Such that a higher SSR implies a lower SSE."
   ]
  },
  {
   "cell_type": "markdown",
   "metadata": {},
   "source": [
    "---\n",
    "OLS = Ordinary Least Square\n",
    "\n",
    "Method: Least Squares (SSE):\n",
    "   - Aims at finding a line which minimizes the SSE\n",
    "\n",
    "$$R^2 = \\frac{\\text{SSR (Variability explained by this Model)}}{\\text{SST (Total Variablity of the Dataset)}}$$\n",
    "\n",
    "$R^2$ can be between 0 and 1.\n",
    "\n",
    "- For scientific experiments an $R^2$ value of between 0.7 and 0.9 would be good.\n",
    "- For Social sciences it might be more like 0.2 to 0.4."
   ]
  },
  {
   "cell_type": "markdown",
   "metadata": {},
   "source": [
    "---\n",
    "## F-statistic (F-Test)\n",
    "\n",
    "$\n",
    "H_0 \\text{:} \\beta_1 = \\beta_2 = \\beta_3 \\dots \\beta_n = 0\\\\\n",
    "H_1 \\text{: at least one} B_i \\ne 0\\\\\n",
    "\\text{If all }\\beta\\text{'s are }0\\text{, then none the }x\\text{'s matter.}\n",
    "$\n",
    "\n",
    "The F-statistic measures the overall signifigance of the model."
   ]
  },
  {
   "cell_type": "markdown",
   "metadata": {},
   "source": [
    "---\n",
    "## Assumptions:\n",
    "\n",
    "### 1. Lineraity \n",
    "   - $y=\\beta_0 + \\beta_1 x_1 + \\beta_2 x_2 + \\dots + \\beta_n x_n + \\epsilon$\n",
    "   - To resolve: If the two variables are not linear, perform a LOG or EXP transformation.\n",
    "\n",
    "### 2. No Endogenevity \n",
    "   - (Covariance of error term = 0)\n",
    "   - Difference between the observed valdue and the predicted value (error) is correlated with the independant variables, known as: Omitted Variable Bias.\n",
    "    - Omitted Variable Bias is introduced in the model when we forget to include a relevant variable.\n",
    "    - e.g.\n",
    "      \n",
    "      $y \\leftarrow x$ (included variable)\n",
    "    \n",
    "      $y \\leftarrow x\\text{*}$ (omitted relevant variable)\n",
    "      \n",
    "      identified by a relationship between $x$ and $\\epsilon$ (error) \n",
    "   - To resolve: Check to ensure that all relevant variables have been included. \n",
    "      \n",
    "      \n",
    "### 3. Normaility & Homoscedasticity\n",
    "   - Symptom: Error term is normally distributed, constant variance\n",
    "   - The variance of the different error terms obtained must be equal\n",
    "   - To resolve: perform a transformation, check for Omitted Variable Bias\n",
    "\n",
    "### 4. No Auto-correlation\n",
    "   - Symptom: co-variance of 2 error terms = 0\n",
    "   - Often encountered with time series analysis\n",
    "   - See: \"Day of the Week Effect\"\n",
    "\n",
    "### 5. No Multicollinearity \n",
    "   - (2 or more variables have a high correlation with each other)\n",
    "   - If theres a perfect multicollineararity between two variables, then it is not nessecary to include both variables in the model."
   ]
  }
 ],
 "metadata": {
  "kernelspec": {
   "display_name": "Python 3",
   "language": "python",
   "name": "python3"
  },
  "language_info": {
   "codemirror_mode": {
    "name": "ipython",
    "version": 3
   },
   "file_extension": ".py",
   "mimetype": "text/x-python",
   "name": "python",
   "nbconvert_exporter": "python",
   "pygments_lexer": "ipython3",
   "version": "3.6.5"
  }
 },
 "nbformat": 4,
 "nbformat_minor": 2
}
