{
 "cells": [
  {
   "cell_type": "code",
   "execution_count": 2,
   "metadata": {},
   "outputs": [],
   "source": [
    "import pandas as pd\n",
    "import numpy as np\n",
    "import matplotlib.pyplot as plt\n",
    "import seaborn as sns\n",
    "from sklearn.model_selection import train_test_split"
   ]
  },
  {
   "cell_type": "code",
   "execution_count": 3,
   "metadata": {},
   "outputs": [],
   "source": [
    "a=np.arange(1,101)"
   ]
  },
  {
   "cell_type": "code",
   "execution_count": 4,
   "metadata": {},
   "outputs": [
    {
     "data": {
      "text/plain": [
       "array([  1,   2,   3,   4,   5,   6,   7,   8,   9,  10,  11,  12,  13,\n",
       "        14,  15,  16,  17,  18,  19,  20,  21,  22,  23,  24,  25,  26,\n",
       "        27,  28,  29,  30,  31,  32,  33,  34,  35,  36,  37,  38,  39,\n",
       "        40,  41,  42,  43,  44,  45,  46,  47,  48,  49,  50,  51,  52,\n",
       "        53,  54,  55,  56,  57,  58,  59,  60,  61,  62,  63,  64,  65,\n",
       "        66,  67,  68,  69,  70,  71,  72,  73,  74,  75,  76,  77,  78,\n",
       "        79,  80,  81,  82,  83,  84,  85,  86,  87,  88,  89,  90,  91,\n",
       "        92,  93,  94,  95,  96,  97,  98,  99, 100])"
      ]
     },
     "execution_count": 4,
     "metadata": {},
     "output_type": "execute_result"
    }
   ],
   "source": [
    "a"
   ]
  },
  {
   "cell_type": "code",
   "execution_count": 5,
   "metadata": {},
   "outputs": [],
   "source": [
    "b=np.arange(501,601)"
   ]
  },
  {
   "cell_type": "code",
   "execution_count": 15,
   "metadata": {},
   "outputs": [
    {
     "data": {
      "text/plain": [
       "array([501, 502, 503, 504, 505, 506, 507, 508, 509, 510, 511, 512, 513,\n",
       "       514, 515, 516, 517, 518, 519, 520, 521, 522, 523, 524, 525, 526,\n",
       "       527, 528, 529, 530, 531, 532, 533, 534, 535, 536, 537, 538, 539,\n",
       "       540, 541, 542, 543, 544, 545, 546, 547, 548, 549, 550, 551, 552,\n",
       "       553, 554, 555, 556, 557, 558, 559, 560, 561, 562, 563, 564, 565,\n",
       "       566, 567, 568, 569, 570, 571, 572, 573, 574, 575, 576, 577, 578,\n",
       "       579, 580, 581, 582, 583, 584, 585, 586, 587, 588, 589, 590, 591,\n",
       "       592, 593, 594, 595, 596, 597, 598, 599, 600])"
      ]
     },
     "execution_count": 15,
     "metadata": {},
     "output_type": "execute_result"
    }
   ],
   "source": [
    "b"
   ]
  },
  {
   "cell_type": "code",
   "execution_count": 6,
   "metadata": {},
   "outputs": [
    {
     "data": {
      "text/plain": [
       "(100,)"
      ]
     },
     "execution_count": 6,
     "metadata": {},
     "output_type": "execute_result"
    }
   ],
   "source": [
    "b.shape"
   ]
  },
  {
   "cell_type": "code",
   "execution_count": 11,
   "metadata": {},
   "outputs": [
    {
     "data": {
      "text/plain": [
       "[array([ 50,  63,   3,  70,  10,  30,  45,   9,  49,  23,  71,  72,  41,\n",
       "         27,  75,  65,  86,  21,  91,  68,  67,  12,  29,  58,   7,  35,\n",
       "         99,  48,   2,  61,  78,  76,  13,  60,  80,  32,  69,  51,   8,\n",
       "         83,  82,  46,  28,  25,  57,  98,   1,  36,  39,  37,  66,  97,\n",
       "         56,  18,  14,  89,  24,  59,  85,  26,  15,  88,  84,  16,  52,\n",
       "         93, 100,  73,  43,  33,  90,  22,  55,  87,  53]),\n",
       " array([81, 47, 40, 74, 19, 96, 79, 54, 38, 17,  6, 95, 31, 44, 42, 34,  5,\n",
       "         4, 11, 77, 20, 92, 62, 64, 94])]"
      ]
     },
     "execution_count": 11,
     "metadata": {},
     "output_type": "execute_result"
    }
   ],
   "source": [
    "#train_test_split(x)--takes an array and splits it into 2 arrays\n",
    "train_test_split(a)\n",
    "#the first array in the output will always be the train array and the second one is the test array\n",
    "#before the train_test_split, the data was ordered. Now its completely random"
   ]
  },
  {
   "cell_type": "code",
   "execution_count": 12,
   "metadata": {},
   "outputs": [],
   "source": [
    "a_train,a_test=train_test_split(a)"
   ]
  },
  {
   "cell_type": "code",
   "execution_count": 13,
   "metadata": {},
   "outputs": [
    {
     "data": {
      "text/plain": [
       "((75,), (25,))"
      ]
     },
     "execution_count": 13,
     "metadata": {},
     "output_type": "execute_result"
    }
   ],
   "source": [
    "a_train.shape,a_test.shape\n",
    "#this shows that the default split is 75-25 and both arrays are shuffled(randomness trait)"
   ]
  },
  {
   "cell_type": "code",
   "execution_count": 14,
   "metadata": {},
   "outputs": [],
   "source": [
    "#incase you want to achieve an 80-20 split then you can use this:\n",
    "a_train,a_test=train_test_split(a,test_size=0.2)\n",
    "#the split value will be between 0 and 1, a floatng point value\n",
    "#each time you run the code the values in train and test will be different\n",
    "#if you do not want the split to be different everytime then use the random_state=number parameter.\n",
    "#lets say random_state=42. Then no matter how many times we run the code we will get the same data in the train and test and not shuffled data\n"
   ]
  },
  {
   "cell_type": "code",
   "execution_count": 15,
   "metadata": {},
   "outputs": [
    {
     "data": {
      "text/plain": [
       "((80,), (20,))"
      ]
     },
     "execution_count": 15,
     "metadata": {},
     "output_type": "execute_result"
    }
   ],
   "source": [
    "a_train.shape,a_test.shape"
   ]
  },
  {
   "cell_type": "code",
   "execution_count": 16,
   "metadata": {},
   "outputs": [
    {
     "data": {
      "text/plain": [
       "(array([ 84,   5,   3,  46,  82,  57,  39,  77,  66,  99,  50,  49,  24,\n",
       "         14,  22,  45,  78,  29,  75,  96,  44,  95,  56,  58,   7,  10,\n",
       "         65,  20,   9,  86,  60,  70,   2,  98,  81,  61,  68,  19,  21,\n",
       "         23,  88,  25,   8,  41,  76,  26,  79,  12,  90,  52,  28,  37,\n",
       "         64,  36,  69,  38,  33,  55,  62,  34,  11,  16,  83,  73,  18,\n",
       "         80,  30,  63,  89,  97, 100,  13,  87,  94,  71,  54,  35,  43,\n",
       "         67,  27]),\n",
       " array([93, 40,  1, 48, 15, 53,  6, 92, 32, 72, 47, 31, 59, 85, 51, 74, 42,\n",
       "         4, 91, 17]))"
      ]
     },
     "execution_count": 16,
     "metadata": {},
     "output_type": "execute_result"
    }
   ],
   "source": [
    "a_train,a_test"
   ]
  },
  {
   "cell_type": "code",
   "execution_count": null,
   "metadata": {},
   "outputs": [],
   "source": [
    "#if we dont want the split to be of random nature(which is the case in TimeSeries Analysis), then we have to mention shuffle=False. This parameter is True by default\n",
    "#E.g- a_train,a_test=train_test_split(a,test_size=0.2,shuffle=False). In this case fist 80 observations will be part of training data and the next 20 will be part of testing data"
   ]
  },
  {
   "cell_type": "code",
   "execution_count": 17,
   "metadata": {},
   "outputs": [],
   "source": [
    "#we can pass more than 1 arrays at the same time in train_test_split:\n",
    "a_train,a_test,b_train,b_test=train_test_split(a,b,test_size=0.2)"
   ]
  },
  {
   "cell_type": "code",
   "execution_count": null,
   "metadata": {},
   "outputs": [],
   "source": []
  }
 ],
 "metadata": {
  "kernelspec": {
   "display_name": "Python 3",
   "language": "python",
   "name": "python3"
  },
  "language_info": {
   "codemirror_mode": {
    "name": "ipython",
    "version": 3
   },
   "file_extension": ".py",
   "mimetype": "text/x-python",
   "name": "python",
   "nbconvert_exporter": "python",
   "pygments_lexer": "ipython3",
   "version": "3.6.5"
  }
 },
 "nbformat": 4,
 "nbformat_minor": 2
}
