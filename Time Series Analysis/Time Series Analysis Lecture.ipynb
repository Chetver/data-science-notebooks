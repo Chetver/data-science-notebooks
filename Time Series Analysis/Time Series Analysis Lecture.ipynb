{
 "cells": [
  {
   "cell_type": "markdown",
   "metadata": {
    "toc": true
   },
   "source": [
    "<h1>Time Series Analysis<span class=\"tocSkip\"></span></h1>\n",
    "<div class=\"toc\"><ul class=\"toc-item\"><li><span><a href=\"#Definition\" data-toc-modified-id=\"Definition-1\">Definition</a></span></li><li><span><a href=\"#Use-Cases\" data-toc-modified-id=\"Use-Cases-2\">Use Cases</a></span></li><li><span><a href=\"#Methods-Used\" data-toc-modified-id=\"Methods-Used-3\">Methods Used</a></span></li><li><span><a href=\"#Common-Terms\" data-toc-modified-id=\"Common-Terms-4\">Common Terms</a></span></li><li><span><a href=\"#Forcasting\" data-toc-modified-id=\"Forcasting-5\">Forcasting</a></span><ul class=\"toc-item\"><li><span><a href=\"#The-Forcasting-Process\" data-toc-modified-id=\"The-Forcasting-Process-5.1\">The Forcasting Process</a></span></li><li><span><a href=\"#Evaluating-the-Model\" data-toc-modified-id=\"Evaluating-the-Model-5.2\">Evaluating the Model</a></span></li><li><span><a href=\"#ACF-and-PACF\" data-toc-modified-id=\"ACF-and-PACF-5.3\">ACF and PACF</a></span><ul class=\"toc-item\"><li><span><a href=\"#ACF\" data-toc-modified-id=\"ACF-5.3.1\">ACF</a></span></li><li><span><a href=\"#PACF\" data-toc-modified-id=\"PACF-5.3.2\">PACF</a></span></li></ul></li></ul></li></ul></div>"
   ]
  },
  {
   "cell_type": "markdown",
   "metadata": {},
   "source": [
    "## Definition\n",
    "Time Series Analysis is a sequence of data points measures at regular time intervals over a period of time.\n",
    "\n",
    "## Use Cases\n",
    "- Stock Prices\n",
    "- Sales Forecast\n",
    "- Height of Ocean Tides\n",
    "\n",
    "Every time series will have 4 main components:\n",
    "1. Trend\n",
    "2. Seasonality\n",
    "3. Cyclicity\n",
    "4. Irregularity/Random\n",
    "\n",
    "**Trend:** The increase or decrease in the series over a period of time. It persists for a longer duration.\n",
    "\n",
    "**Seasonality:** Regular pattern of up and down fluctuations. Short term variations, occuring due to season factors.\n",
    "\n",
    "**Cyclicity:** Medium term variations that repeat at irregular intervals. Similar to seasonsonality but with shorter durations.\n",
    "\n",
    "**Irregularity/Random:** Variations which occur due to unpredictable factors. Aka noise.\n",
    "\n",
    "\n",
    "## Methods Used\n",
    "\n",
    "- Hardrick-Prescott\n",
    "- Holt-Winters \n",
    "\n",
    "## Common Terms\n",
    "\n",
    "- SMA Simple Moving Average\n",
    "    - Aka groupby window of time (7 days, monthly, yearly)\n",
    "    - Applies aggregate functions on the total number of values as per the described window.\n",
    "    \n",
    "- EWMA Exponentially Weighted Moving Average\n",
    "    - Used for forecasting\n",
    "    - Applies weights to values with more recent data points given more weight.\n",
    "    \n"
   ]
  },
  {
   "cell_type": "markdown",
   "metadata": {},
   "source": [
    "## Forcasting\n",
    "\n",
    "### The Forcasting Process\n",
    "1. Choose a model\n",
    "2. Split data into training and testing data\n",
    "    - The most recent data has to be part of the test dataset\n",
    "    - Data is split by index rather than ```train_test_split```\n",
    "3. Fit data into the model\n",
    "4. Evaluate the model against the test data\n",
    "5. Refit the model on the entire data\n",
    "6. Make a Forecast\n",
    "\n",
    "### Evaluating the Model\n",
    "- MAE - Mean Absolute Error\n",
    "- MSE - Mean Squared Error\n",
    "- RMSE - Root Mean Squared Error\n",
    "\n",
    "### ACF and PACF\n",
    "- ACF - Auto-Correlation Function\n",
    "- PACF - Partial ACF\n",
    "\n",
    "ACF and PACF plots are used to describe the relationship between a time series and itself.  \n",
    "e.g. comparing todays sales data (Current Data) with previous sales data (Prior Data)\n",
    "\n",
    "#### ACF\n",
    "\n",
    "An Auto-Correlation Plot shows the correlation of the series with iteself, lagged by '$x$' time units. This is also known as a 'Correlogram'.\n",
    "\n",
    "#### PACF\n",
    "\n"
   ]
  }
 ],
 "metadata": {
  "hide_input": false,
  "kernelspec": {
   "display_name": "Python 3",
   "language": "python",
   "name": "python3"
  },
  "language_info": {
   "codemirror_mode": {
    "name": "ipython",
    "version": 3
   },
   "file_extension": ".py",
   "mimetype": "text/x-python",
   "name": "python",
   "nbconvert_exporter": "python",
   "pygments_lexer": "ipython3",
   "version": "3.6.5"
  },
  "toc": {
   "base_numbering": 1,
   "nav_menu": {},
   "number_sections": false,
   "sideBar": true,
   "skip_h1_title": true,
   "title_cell": "Time Series Analysis",
   "title_sidebar": "TIme Series Analysis",
   "toc_cell": true,
   "toc_position": {
    "height": "calc(100% - 180px)",
    "left": "10px",
    "top": "150px",
    "width": "165px"
   },
   "toc_section_display": true,
   "toc_window_display": true
  }
 },
 "nbformat": 4,
 "nbformat_minor": 2
}
