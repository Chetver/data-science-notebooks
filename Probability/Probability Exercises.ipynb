{
 "cells": [
  {
   "cell_type": "markdown",
   "metadata": {},
   "source": [
    "# Probability Exercises"
   ]
  },
  {
   "cell_type": "markdown",
   "metadata": {},
   "source": [
    "## Problem 1:\n",
    "\n",
    "Imagine you are working at an office and have 5 tasks labelled as “Critical” in Jira to complete by the end of the day. In how many ways can you complete said tasks before the day ends? \n",
    "\n",
    "*Note: “Jira” is a Project Management software which allows you to create tasks and label them depending on their importance. “Critical” is the highest level of importance and no task with a lower-level can be started once such a task is initiated.*\n",
    "\n",
    "*Answer = 120*\n"
   ]
  },
  {
   "cell_type": "markdown",
   "metadata": {},
   "source": [
    "$5! = 120$"
   ]
  },
  {
   "cell_type": "markdown",
   "metadata": {},
   "source": [
    "## Problem 2: \n",
    "Imagine your company is trying to gain customers by running an online ad campaign. The idea is to focus on a certain demographic which frequently uses social media. Your campaign will run ads on Facebook, Messenger, Instagram, Twitter and Reddit. Your graphical designers have created 8 different versions of the banner you can use. Based on this information:"
   ]
  },
  {
   "cell_type": "markdown",
   "metadata": {},
   "source": [
    "***\n",
    "**a)**  Calculate how many different options you have for the entire campaign, assuming you want to use a different one for each platform. *(Answer: 6720)*"
   ]
  },
  {
   "cell_type": "markdown",
   "metadata": {},
   "source": [
    "**Answer:**\n",
    "\n",
    "Using Permutations: \n",
    "\n",
    "$P(n,r)=\\frac{n!}{(n-r)!}$ \n",
    "\n",
    "Where $n=8$ and $r=5$\n",
    "\n",
    "$\\begin{align}\n",
    "P(8,5)&=\\frac{8!}{(8-5)!}\\\\\n",
    "&=\\frac{40320}{(3)!}\\\\\n",
    "&=\\frac{40320}{6}\\\\\n",
    "&=6720\\\\\n",
    "\\end{align}\n",
    "$"
   ]
  },
  {
   "cell_type": "markdown",
   "metadata": {},
   "source": [
    "***\n",
    "**b)** Calculate how many different options you have for the entire campaign, assuming you can use the same banner for some or all the platforms. *(Answer: 32768)*"
   ]
  },
  {
   "cell_type": "markdown",
   "metadata": {},
   "source": [
    "**Answer:**\n",
    "\n",
    "Using Permutations with replacement: \n",
    "\n",
    "$P^R(n,r)=n^r= ?$\n",
    "\n",
    "Where $n=8$ and $r=5$   \n",
    "\n",
    "$\\begin{align}\n",
    "P^R(8,5)&= 8^5 = 32768\n",
    "\\end{align}\n",
    "$"
   ]
  },
  {
   "cell_type": "markdown",
   "metadata": {},
   "source": [
    "***\n",
    "**c)** Calculate how many ways we can pick which of the 8 banners to use, assuming we use different ones for each platform. *(Answer: 56)*"
   ]
  },
  {
   "cell_type": "markdown",
   "metadata": {},
   "source": [
    "Using Combinations: \n",
    "\n",
    "$C(n,r)=\\frac{n!}{(r!(n-r)!)}=?$\n",
    "\n",
    "Where $n=5$ and $r=1$\n",
    "\n",
    "$C(5,1)=\\frac{5!}{(1!(5-1)!)}=5$\n"
   ]
  },
  {
   "cell_type": "markdown",
   "metadata": {},
   "source": [
    "***\n",
    "**d)** Calculate how many ways we can pick which of the 8 banners to use, assuming we can use each one multiple times. *(Answer: 792)*"
   ]
  },
  {
   "cell_type": "markdown",
   "metadata": {},
   "source": [
    "Using Combinations with replacement: \n",
    "\n",
    "$C^R(n,r)=\\frac{(n+r-1)!}{r!(n-1)!}=?$\n",
    "\n",
    "Where $n=8$ and $r=5$\n",
    "\n",
    "$C^R(8,5)=\\frac{(8+5-1)!}{5!(8-1)!}=\\frac{12!}{5!7!}=792$\n"
   ]
  },
  {
   "cell_type": "markdown",
   "metadata": {},
   "source": [
    "## Problem 3: \n",
    "You are renovating your entire apartment and want to repaint the walls of each room. The flat consists of two bedrooms, a kitchen, a living room, a bathroom, a study and a hall, or 7 rooms in total. You have at your disposal several colors of paint: white, yellow, orange, red, purple, blue, green, grey and pink. \n",
    "How many different ways can you paint the house, assuming… "
   ]
  },
  {
   "cell_type": "markdown",
   "metadata": {},
   "source": [
    "***\n",
    "**a)** …you paint all the rooms in different colours?  *(Answer: 181440)*"
   ]
  },
  {
   "cell_type": "markdown",
   "metadata": {},
   "source": [
    "**Answer:**\n",
    "\n",
    "Using Permutations: \n",
    "\n",
    "$P(n,r)=\\frac{n!}{(n-r)!}$ \n",
    "\n",
    "Where $n=9$ and $r=7$\n",
    "\n",
    "$\\begin{align}\n",
    "P(9,7)&=\\frac{9!}{(9-7)!}\\\\\n",
    "&=181440\\\\\n",
    "\\end{align}\n",
    "$"
   ]
  },
  {
   "cell_type": "markdown",
   "metadata": {},
   "source": [
    "***\n",
    "**b)** …you paint the bathroom, study and hall in white? *(Answer: 3024 or 1680)*"
   ]
  },
  {
   "cell_type": "markdown",
   "metadata": {},
   "source": [
    "**Answer:**\n",
    "\n",
    "Using Permutations: \n",
    "$P(n,r)=\\frac{n!}{(n-r)!}$ \n",
    "\n",
    "Scenario 1: No other rooms painted in White\n",
    "\n",
    "Where $n=8$ and $r=4$\n",
    "\n",
    "$\\begin{align}\n",
    "P(8,4)&=\\frac{8!}{(8-4)!}\\\\\n",
    "&=1680\\\\\n",
    "\\end{align}\n",
    "$\n",
    "\n",
    "Scenario 2: White able to be used again\n",
    "\n",
    "Where $n=9$ and $r=4$\n",
    "\n",
    "$\\begin{align}\n",
    "P(9,4)&=\\frac{9!}{(9-4)!}\\\\\n",
    "&=3024\\\\\n",
    "\\end{align}\n",
    "$"
   ]
  },
  {
   "cell_type": "markdown",
   "metadata": {},
   "source": [
    "***\n",
    "**c)** …you paint the two bedrooms in identical color? *(Answer: 6561)*"
   ]
  },
  {
   "cell_type": "markdown",
   "metadata": {},
   "source": [
    "Using Permutations: \n",
    "$P(n,r)=\\frac{n!}{(n-r)!}$ \n",
    "\n",
    "9 Possible colors for the two bedroom = 9\n",
    "\n",
    "For the remaining rooms:\n",
    "\n",
    "Where $n=8$ and $r=5$\n",
    "\n",
    "$\\begin{align}\n",
    "P(8,5)&=\\frac{8!}{(8-5)!}\\\\\n",
    "&=6720\\\\\n",
    "\\end{align}\n",
    "$"
   ]
  },
  {
   "cell_type": "markdown",
   "metadata": {},
   "source": [
    "***\n",
    "**d)** …you can only use grey and yellow? *(Answer: 128)*"
   ]
  },
  {
   "cell_type": "code",
   "execution_count": null,
   "metadata": {},
   "outputs": [],
   "source": []
  },
  {
   "cell_type": "code",
   "execution_count": null,
   "metadata": {},
   "outputs": [],
   "source": []
  },
  {
   "cell_type": "code",
   "execution_count": null,
   "metadata": {},
   "outputs": [],
   "source": []
  }
 ],
 "metadata": {
  "kernelspec": {
   "display_name": "Python 3",
   "language": "python",
   "name": "python3"
  },
  "language_info": {
   "codemirror_mode": {
    "name": "ipython",
    "version": 3
   },
   "file_extension": ".py",
   "mimetype": "text/x-python",
   "name": "python",
   "nbconvert_exporter": "python",
   "pygments_lexer": "ipython3",
   "version": "3.6.5"
  }
 },
 "nbformat": 4,
 "nbformat_minor": 2
}
