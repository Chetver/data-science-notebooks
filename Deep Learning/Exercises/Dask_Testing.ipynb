{
 "cells": [
  {
   "cell_type": "code",
   "execution_count": 1,
   "metadata": {},
   "outputs": [
    {
     "name": "stdout",
     "output_type": "stream",
     "text": [
      "3.6.5 |Anaconda, Inc.| (default, Mar 29 2018, 13:32:41) [MSC v.1900 64 bit (AMD64)]\n",
      "64\n",
      "This kernel has  8 cores and you can find the information regarding the memory usage: svmem(total=16036200448, available=10090102784, percent=37.1, used=5946097664, free=10090102784)\n"
     ]
    }
   ],
   "source": [
    "# Load the required packages\n",
    "import time as time\n",
    "import psutil as ps\n",
    "import numpy as np\n",
    "import pandas as pd\n",
    "import multiprocessing as mp\n",
    "import dask.array as da\n",
    "import sys\n",
    "import struct\n",
    "\n",
    "print(sys.version)\n",
    "print(struct.calcsize(\"P\") * 8)\n",
    "# Check the number of cores and memory usage\n",
    "num_cores = mp.cpu_count()\n",
    "print(\"This kernel has \",num_cores,\"cores and you can find the information regarding the memory usage:\",ps.virtual_memory())"
   ]
  },
  {
   "cell_type": "code",
   "execution_count": 2,
   "metadata": {},
   "outputs": [],
   "source": [
    "#observations = 1000000000 #1 Billion\n",
    "observations = 10000 \n",
    "# np.random.random_sample((5,))\n",
    "# np.random.random_sample((observations,1)) - 5\n",
    "# dask_xs = da.from_array(np.random.uniform(low=-10, high=10, size=(observations,1)), chunks=(100))\n",
    "\n",
    "x = da.random.random((10000, 10000), chunks=(1000, 1000))\n",
    "#print(\"xs = Bytes: \",sys.getsizeof(xs))\n",
    "# mem_size_xs = round(sys.getsizeof(dask_xs)/1073741824,2)\n",
    "# print(\"xs = GigaBytes: \",mem_size_xs)"
   ]
  },
  {
   "cell_type": "code",
   "execution_count": 3,
   "metadata": {},
   "outputs": [
    {
     "data": {
      "text/plain": [
       "dask.array<da.random.random_sample, shape=(10000, 10000), dtype=float64, chunksize=(1000, 1000)>"
      ]
     },
     "execution_count": 3,
     "metadata": {},
     "output_type": "execute_result"
    }
   ],
   "source": [
    "x"
   ]
  },
  {
   "cell_type": "code",
   "execution_count": null,
   "metadata": {},
   "outputs": [],
   "source": [
    "xs = []"
   ]
  }
 ],
 "metadata": {
  "hide_input": false,
  "kernelspec": {
   "display_name": "Python 3",
   "language": "python",
   "name": "python3"
  },
  "language_info": {
   "codemirror_mode": {
    "name": "ipython",
    "version": 3
   },
   "file_extension": ".py",
   "mimetype": "text/x-python",
   "name": "python",
   "nbconvert_exporter": "python",
   "pygments_lexer": "ipython3",
   "version": "3.6.5"
  },
  "toc": {
   "base_numbering": 1,
   "nav_menu": {},
   "number_sections": true,
   "sideBar": true,
   "skip_h1_title": false,
   "title_cell": "Table of Contents",
   "title_sidebar": "Contents",
   "toc_cell": false,
   "toc_position": {},
   "toc_section_display": true,
   "toc_window_display": false
  }
 },
 "nbformat": 4,
 "nbformat_minor": 2
}
