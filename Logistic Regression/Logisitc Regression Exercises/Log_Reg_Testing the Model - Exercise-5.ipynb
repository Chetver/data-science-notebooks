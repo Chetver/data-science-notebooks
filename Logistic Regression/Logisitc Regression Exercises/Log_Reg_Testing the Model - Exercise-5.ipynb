{
 "cells": [
  {
   "cell_type": "markdown",
   "metadata": {},
   "source": [
    "# Testing the model"
   ]
  },
  {
   "cell_type": "markdown",
   "metadata": {},
   "source": [
    "Using your solution so far, test the model on new data.\n",
    "\n",
    "The new data is located in the ‘Bank_data_testing.csv’.\n",
    "\n",
    "Good luck!"
   ]
  },
  {
   "cell_type": "markdown",
   "metadata": {},
   "source": [
    "## Import the relevant libraries"
   ]
  },
  {
   "cell_type": "code",
   "execution_count": 1,
   "metadata": {},
   "outputs": [],
   "source": [
    "import pandas as pd\n",
    "import numpy as np\n",
    "import matplotlib.pyplot as plt\n",
    "%matplotlib inline\n",
    "import seaborn as sns\n",
    "#set the style of all graphs to seaborn:\n",
    "sns.set_style('whitegrid')\n",
    "import statsmodels.api as sm"
   ]
  },
  {
   "cell_type": "markdown",
   "metadata": {},
   "source": [
    "## Load the data"
   ]
  },
  {
   "cell_type": "markdown",
   "metadata": {},
   "source": [
    "Load the ‘Bank_data.csv’ dataset."
   ]
  },
  {
   "cell_type": "code",
   "execution_count": 2,
   "metadata": {},
   "outputs": [],
   "source": [
    "# Load the data\n",
    "bank_data = pd.read_csv('bank-data.csv')\n",
    "\n",
    "# Check the data\n",
    "bank_data.columns\n",
    "bank_data.drop('Unnamed: 0', axis=1,inplace=True)\n",
    "#bank_data.head()\n",
    "#bank_data"
   ]
  },
  {
   "cell_type": "code",
   "execution_count": 3,
   "metadata": {},
   "outputs": [
    {
     "data": {
      "text/html": [
       "<div>\n",
       "<style scoped>\n",
       "    .dataframe tbody tr th:only-of-type {\n",
       "        vertical-align: middle;\n",
       "    }\n",
       "\n",
       "    .dataframe tbody tr th {\n",
       "        vertical-align: top;\n",
       "    }\n",
       "\n",
       "    .dataframe thead th {\n",
       "        text-align: right;\n",
       "    }\n",
       "</style>\n",
       "<table border=\"1\" class=\"dataframe\">\n",
       "  <thead>\n",
       "    <tr style=\"text-align: right;\">\n",
       "      <th></th>\n",
       "      <th>interest_rate</th>\n",
       "      <th>credit</th>\n",
       "      <th>march</th>\n",
       "      <th>may</th>\n",
       "      <th>previous</th>\n",
       "      <th>duration</th>\n",
       "      <th>y</th>\n",
       "    </tr>\n",
       "  </thead>\n",
       "  <tbody>\n",
       "    <tr>\n",
       "      <th>0</th>\n",
       "      <td>1.334</td>\n",
       "      <td>0.0</td>\n",
       "      <td>1.0</td>\n",
       "      <td>0.0</td>\n",
       "      <td>0.0</td>\n",
       "      <td>117.0</td>\n",
       "      <td>0</td>\n",
       "    </tr>\n",
       "    <tr>\n",
       "      <th>1</th>\n",
       "      <td>0.767</td>\n",
       "      <td>0.0</td>\n",
       "      <td>0.0</td>\n",
       "      <td>2.0</td>\n",
       "      <td>1.0</td>\n",
       "      <td>274.0</td>\n",
       "      <td>1</td>\n",
       "    </tr>\n",
       "    <tr>\n",
       "      <th>2</th>\n",
       "      <td>4.858</td>\n",
       "      <td>0.0</td>\n",
       "      <td>1.0</td>\n",
       "      <td>0.0</td>\n",
       "      <td>0.0</td>\n",
       "      <td>167.0</td>\n",
       "      <td>0</td>\n",
       "    </tr>\n",
       "    <tr>\n",
       "      <th>3</th>\n",
       "      <td>4.120</td>\n",
       "      <td>0.0</td>\n",
       "      <td>0.0</td>\n",
       "      <td>0.0</td>\n",
       "      <td>0.0</td>\n",
       "      <td>686.0</td>\n",
       "      <td>1</td>\n",
       "    </tr>\n",
       "    <tr>\n",
       "      <th>4</th>\n",
       "      <td>4.856</td>\n",
       "      <td>0.0</td>\n",
       "      <td>1.0</td>\n",
       "      <td>0.0</td>\n",
       "      <td>0.0</td>\n",
       "      <td>157.0</td>\n",
       "      <td>0</td>\n",
       "    </tr>\n",
       "  </tbody>\n",
       "</table>\n",
       "</div>"
      ],
      "text/plain": [
       "   interest_rate  credit  march  may  previous  duration  y\n",
       "0          1.334     0.0    1.0  0.0       0.0     117.0  0\n",
       "1          0.767     0.0    0.0  2.0       1.0     274.0  1\n",
       "2          4.858     0.0    1.0  0.0       0.0     167.0  0\n",
       "3          4.120     0.0    0.0  0.0       0.0     686.0  1\n",
       "4          4.856     0.0    1.0  0.0       0.0     157.0  0"
      ]
     },
     "execution_count": 3,
     "metadata": {},
     "output_type": "execute_result"
    }
   ],
   "source": [
    "# Encode outcome column values as numbers\n",
    "bank_data_mapped=bank_data.copy()\n",
    "bank_data_mapped['y']=bank_data_mapped['y'].map({'yes':1,'no':0})\n",
    "bank_data_mapped.head()"
   ]
  },
  {
   "cell_type": "code",
   "execution_count": null,
   "metadata": {},
   "outputs": [],
   "source": []
  },
  {
   "cell_type": "markdown",
   "metadata": {},
   "source": [
    "### Declare the dependent and independent variables"
   ]
  },
  {
   "cell_type": "markdown",
   "metadata": {},
   "source": [
    "Use 'duration' as the independet variable."
   ]
  },
  {
   "cell_type": "code",
   "execution_count": 4,
   "metadata": {},
   "outputs": [],
   "source": [
    "#We are predicting if\n",
    "# the client will subscribe a term deposit\n",
    "# so y column is the y variable\n",
    "# and 'duration' the x variable\n",
    "y=bank_data_mapped['y']\n",
    "x1=bank_data_mapped['duration']"
   ]
  },
  {
   "cell_type": "markdown",
   "metadata": {},
   "source": [
    "### Simple Logistic Regression"
   ]
  },
  {
   "cell_type": "markdown",
   "metadata": {},
   "source": [
    "Run the regression and graph the scatter plot."
   ]
  },
  {
   "cell_type": "code",
   "execution_count": 5,
   "metadata": {},
   "outputs": [
    {
     "data": {
      "image/png": "[encoded data removed]",
      "text/plain": [
       "<Figure size 432x288 with 1 Axes>"
      ]
     },
     "metadata": {
      "needs_background": "light"
     },
     "output_type": "display_data"
    }
   ],
   "source": [
    "#create a scatter plot\n",
    "plt.scatter(x1,y,color='C0')\n",
    "plt.xlabel('Duration',fontsize=20)\n",
    "plt.ylabel('Subscribed to Term Deposit',fontsize=20)\n",
    "plt.show()"
   ]
  },
  {
   "cell_type": "code",
   "execution_count": 6,
   "metadata": {},
   "outputs": [
    {
     "name": "stdout",
     "output_type": "stream",
     "text": [
      "Optimization terminated successfully.\n",
      "         Current function value: 0.546118\n",
      "         Iterations 7\n"
     ]
    },
    {
     "data": {
      "text/html": [
       "<table class=\"simpletable\">\n",
       "<caption>Logit Regression Results</caption>\n",
       "<tr>\n",
       "  <th>Dep. Variable:</th>         <td>y</td>        <th>  No. Observations:  </th>  <td>   518</td>  \n",
       "</tr>\n",
       "<tr>\n",
       "  <th>Model:</th>               <td>Logit</td>      <th>  Df Residuals:      </th>  <td>   516</td>  \n",
       "</tr>\n",
       "<tr>\n",
       "  <th>Method:</th>               <td>MLE</td>       <th>  Df Model:          </th>  <td>     1</td>  \n",
       "</tr>\n",
       "<tr>\n",
       "  <th>Date:</th>          <td>Thu, 15 Aug 2019</td> <th>  Pseudo R-squ.:     </th>  <td>0.2121</td>  \n",
       "</tr>\n",
       "<tr>\n",
       "  <th>Time:</th>              <td>09:51:17</td>     <th>  Log-Likelihood:    </th> <td> -282.89</td> \n",
       "</tr>\n",
       "<tr>\n",
       "  <th>converged:</th>           <td>True</td>       <th>  LL-Null:           </th> <td> -359.05</td> \n",
       "</tr>\n",
       "<tr>\n",
       "  <th> </th>                      <td> </td>        <th>  LLR p-value:       </th> <td>5.387e-35</td>\n",
       "</tr>\n",
       "</table>\n",
       "<table class=\"simpletable\">\n",
       "<tr>\n",
       "      <td></td>        <th>coef</th>     <th>std err</th>      <th>z</th>      <th>P>|z|</th>  <th>[0.025</th>    <th>0.975]</th>  \n",
       "</tr>\n",
       "<tr>\n",
       "  <th>const</th>    <td>   -1.7001</td> <td>    0.192</td> <td>   -8.863</td> <td> 0.000</td> <td>   -2.076</td> <td>   -1.324</td>\n",
       "</tr>\n",
       "<tr>\n",
       "  <th>duration</th> <td>    0.0051</td> <td>    0.001</td> <td>    9.159</td> <td> 0.000</td> <td>    0.004</td> <td>    0.006</td>\n",
       "</tr>\n",
       "</table>"
      ],
      "text/plain": [
       "<class 'statsmodels.iolib.summary.Summary'>\n",
       "\"\"\"\n",
       "                           Logit Regression Results                           \n",
       "==============================================================================\n",
       "Dep. Variable:                      y   No. Observations:                  518\n",
       "Model:                          Logit   Df Residuals:                      516\n",
       "Method:                           MLE   Df Model:                            1\n",
       "Date:                Thu, 15 Aug 2019   Pseudo R-squ.:                  0.2121\n",
       "Time:                        09:51:17   Log-Likelihood:                -282.89\n",
       "converged:                       True   LL-Null:                       -359.05\n",
       "                                        LLR p-value:                 5.387e-35\n",
       "==============================================================================\n",
       "                 coef    std err          z      P>|z|      [0.025      0.975]\n",
       "------------------------------------------------------------------------------\n",
       "const         -1.7001      0.192     -8.863      0.000      -2.076      -1.324\n",
       "duration       0.0051      0.001      9.159      0.000       0.004       0.006\n",
       "==============================================================================\n",
       "\"\"\""
      ]
     },
     "execution_count": 6,
     "metadata": {},
     "output_type": "execute_result"
    }
   ],
   "source": [
    "x=sm.add_constant(x1)\n",
    "reg_log=sm.Logit(y,x)\n",
    "#x\n",
    "results_log=reg_log.fit()\n",
    "results_log.summary()"
   ]
  },
  {
   "cell_type": "code",
   "execution_count": 7,
   "metadata": {},
   "outputs": [
    {
     "data": {
      "text/plain": [
       "array([[204.,  55.],\n",
       "       [104., 155.]])"
      ]
     },
     "execution_count": 7,
     "metadata": {},
     "output_type": "execute_result"
    }
   ],
   "source": [
    "results_log.pred_table()"
   ]
  },
  {
   "cell_type": "markdown",
   "metadata": {},
   "source": [
    "## Expand the model"
   ]
  },
  {
   "cell_type": "markdown",
   "metadata": {},
   "source": [
    "We can be omitting many causal factors in our simple logistic model, so we instead switch to a multivariate logistic regression model. Add the ‘interest_rate’, ‘march’, ‘credit’ and ‘previous’ estimators to our model and run the regression again. "
   ]
  },
  {
   "cell_type": "markdown",
   "metadata": {},
   "source": [
    "### Declare the independent variable(s)"
   ]
  },
  {
   "cell_type": "code",
   "execution_count": 8,
   "metadata": {},
   "outputs": [],
   "source": [
    "#We are predicting if\n",
    "# the client will subscribe a term deposit\n",
    "# so y column is the y variable\n",
    "# and 'duration' the x variable\n",
    "y=bank_data_mapped['y']\n",
    "x1=bank_data_mapped[['interest_rate','march','credit','previous','duration']]"
   ]
  },
  {
   "cell_type": "code",
   "execution_count": 9,
   "metadata": {
    "scrolled": false
   },
   "outputs": [
    {
     "name": "stdout",
     "output_type": "stream",
     "text": [
      "Optimization terminated successfully.\n",
      "         Current function value: 0.336664\n",
      "         Iterations 7\n"
     ]
    },
    {
     "data": {
      "text/html": [
       "<table class=\"simpletable\">\n",
       "<caption>Logit Regression Results</caption>\n",
       "<tr>\n",
       "  <th>Dep. Variable:</th>         <td>y</td>        <th>  No. Observations:  </th>  <td>   518</td>  \n",
       "</tr>\n",
       "<tr>\n",
       "  <th>Model:</th>               <td>Logit</td>      <th>  Df Residuals:      </th>  <td>   512</td>  \n",
       "</tr>\n",
       "<tr>\n",
       "  <th>Method:</th>               <td>MLE</td>       <th>  Df Model:          </th>  <td>     5</td>  \n",
       "</tr>\n",
       "<tr>\n",
       "  <th>Date:</th>          <td>Thu, 15 Aug 2019</td> <th>  Pseudo R-squ.:     </th>  <td>0.5143</td>  \n",
       "</tr>\n",
       "<tr>\n",
       "  <th>Time:</th>              <td>09:51:17</td>     <th>  Log-Likelihood:    </th> <td> -174.39</td> \n",
       "</tr>\n",
       "<tr>\n",
       "  <th>converged:</th>           <td>True</td>       <th>  LL-Null:           </th> <td> -359.05</td> \n",
       "</tr>\n",
       "<tr>\n",
       "  <th> </th>                      <td> </td>        <th>  LLR p-value:       </th> <td>1.211e-77</td>\n",
       "</tr>\n",
       "</table>\n",
       "<table class=\"simpletable\">\n",
       "<tr>\n",
       "        <td></td>           <th>coef</th>     <th>std err</th>      <th>z</th>      <th>P>|z|</th>  <th>[0.025</th>    <th>0.975]</th>  \n",
       "</tr>\n",
       "<tr>\n",
       "  <th>const</th>         <td>   -0.0211</td> <td>    0.311</td> <td>   -0.068</td> <td> 0.946</td> <td>   -0.631</td> <td>    0.589</td>\n",
       "</tr>\n",
       "<tr>\n",
       "  <th>interest_rate</th> <td>   -0.8001</td> <td>    0.089</td> <td>   -8.943</td> <td> 0.000</td> <td>   -0.975</td> <td>   -0.625</td>\n",
       "</tr>\n",
       "<tr>\n",
       "  <th>march</th>         <td>   -1.8322</td> <td>    0.330</td> <td>   -5.556</td> <td> 0.000</td> <td>   -2.478</td> <td>   -1.186</td>\n",
       "</tr>\n",
       "<tr>\n",
       "  <th>credit</th>        <td>    2.3585</td> <td>    1.088</td> <td>    2.169</td> <td> 0.030</td> <td>    0.227</td> <td>    4.490</td>\n",
       "</tr>\n",
       "<tr>\n",
       "  <th>previous</th>      <td>    1.5363</td> <td>    0.501</td> <td>    3.067</td> <td> 0.002</td> <td>    0.554</td> <td>    2.518</td>\n",
       "</tr>\n",
       "<tr>\n",
       "  <th>duration</th>      <td>    0.0070</td> <td>    0.001</td> <td>    9.381</td> <td> 0.000</td> <td>    0.006</td> <td>    0.008</td>\n",
       "</tr>\n",
       "</table>"
      ],
      "text/plain": [
       "<class 'statsmodels.iolib.summary.Summary'>\n",
       "\"\"\"\n",
       "                           Logit Regression Results                           \n",
       "==============================================================================\n",
       "Dep. Variable:                      y   No. Observations:                  518\n",
       "Model:                          Logit   Df Residuals:                      512\n",
       "Method:                           MLE   Df Model:                            5\n",
       "Date:                Thu, 15 Aug 2019   Pseudo R-squ.:                  0.5143\n",
       "Time:                        09:51:17   Log-Likelihood:                -174.39\n",
       "converged:                       True   LL-Null:                       -359.05\n",
       "                                        LLR p-value:                 1.211e-77\n",
       "=================================================================================\n",
       "                    coef    std err          z      P>|z|      [0.025      0.975]\n",
       "---------------------------------------------------------------------------------\n",
       "const            -0.0211      0.311     -0.068      0.946      -0.631       0.589\n",
       "interest_rate    -0.8001      0.089     -8.943      0.000      -0.975      -0.625\n",
       "march            -1.8322      0.330     -5.556      0.000      -2.478      -1.186\n",
       "credit            2.3585      1.088      2.169      0.030       0.227       4.490\n",
       "previous          1.5363      0.501      3.067      0.002       0.554       2.518\n",
       "duration          0.0070      0.001      9.381      0.000       0.006       0.008\n",
       "=================================================================================\n",
       "\"\"\""
      ]
     },
     "execution_count": 9,
     "metadata": {},
     "output_type": "execute_result"
    }
   ],
   "source": [
    "x=sm.add_constant(x1)\n",
    "reg_log=sm.Logit(y,x)\n",
    "#x\n",
    "results_log=reg_log.fit()\n",
    "\n",
    "results_log.summary()"
   ]
  },
  {
   "cell_type": "code",
   "execution_count": 10,
   "metadata": {},
   "outputs": [
    {
     "data": {
      "text/plain": [
       "array([[218.,  41.],\n",
       "       [ 30., 229.]])"
      ]
     },
     "execution_count": 10,
     "metadata": {},
     "output_type": "execute_result"
    }
   ],
   "source": [
    "results_log.pred_table()"
   ]
  },
  {
   "cell_type": "markdown",
   "metadata": {},
   "source": [
    "### Confusion Matrix"
   ]
  },
  {
   "cell_type": "markdown",
   "metadata": {},
   "source": [
    "Find the confusion matrix of the model and estimate its accuracy. "
   ]
  },
  {
   "cell_type": "markdown",
   "metadata": {},
   "source": [
    "<i> For convenience we have already provided you with a function that finds the confusion matrix and the model accuracy.</i>"
   ]
  },
  {
   "cell_type": "code",
   "execution_count": 11,
   "metadata": {},
   "outputs": [],
   "source": [
    "def confusion_matrix(data,actual_values,model):\n",
    "        \n",
    "        # Confusion matrix \n",
    "        \n",
    "        # Parameters\n",
    "        # ----------\n",
    "        # data: data frame or array\n",
    "            # data is a data frame formatted in the same way as your input data (without the actual values)\n",
    "            # e.g. const, var1, var2, etc. Order is very important!\n",
    "        # actual_values: data frame or array\n",
    "            # These are the actual values from the test_data\n",
    "            # In the case of a logistic regression, it should be a single column with 0s and 1s\n",
    "            \n",
    "        # model: a LogitResults object\n",
    "            # this is the variable where you have the fitted model \n",
    "            # e.g. results_log in this course\n",
    "        # ----------\n",
    "        \n",
    "        #Predict the values using the Logit model\n",
    "        pred_values = model.predict(data)\n",
    "        # Specify the bins \n",
    "        bins=np.array([0,0.5,1])\n",
    "        # Create a histogram, where if values are between 0 and 0.5 tell will be considered 0\n",
    "        # if they are between 0.5 and 1, they will be considered 1\n",
    "        cm = np.histogram2d(actual_values, pred_values, bins=bins)[0]\n",
    "        # Calculate the accuracy\n",
    "        accuracy = (cm[0,0]+cm[1,1])/cm.sum()\n",
    "        # Return the confusion matrix and \n",
    "        return cm, accuracy"
   ]
  },
  {
   "cell_type": "code",
   "execution_count": 12,
   "metadata": {},
   "outputs": [
    {
     "data": {
      "text/html": [
       "<div>\n",
       "<style scoped>\n",
       "    .dataframe tbody tr th:only-of-type {\n",
       "        vertical-align: middle;\n",
       "    }\n",
       "\n",
       "    .dataframe tbody tr th {\n",
       "        vertical-align: top;\n",
       "    }\n",
       "\n",
       "    .dataframe thead th {\n",
       "        text-align: right;\n",
       "    }\n",
       "</style>\n",
       "<table border=\"1\" class=\"dataframe\">\n",
       "  <thead>\n",
       "    <tr style=\"text-align: right;\">\n",
       "      <th></th>\n",
       "      <th>interest_rate</th>\n",
       "      <th>credit</th>\n",
       "      <th>march</th>\n",
       "      <th>may</th>\n",
       "      <th>previous</th>\n",
       "      <th>duration</th>\n",
       "    </tr>\n",
       "  </thead>\n",
       "  <tbody>\n",
       "    <tr>\n",
       "      <th>0</th>\n",
       "      <td>1.334</td>\n",
       "      <td>0.0</td>\n",
       "      <td>1.0</td>\n",
       "      <td>0.0</td>\n",
       "      <td>0.0</td>\n",
       "      <td>117.0</td>\n",
       "    </tr>\n",
       "    <tr>\n",
       "      <th>1</th>\n",
       "      <td>0.767</td>\n",
       "      <td>0.0</td>\n",
       "      <td>0.0</td>\n",
       "      <td>2.0</td>\n",
       "      <td>1.0</td>\n",
       "      <td>274.0</td>\n",
       "    </tr>\n",
       "    <tr>\n",
       "      <th>2</th>\n",
       "      <td>4.858</td>\n",
       "      <td>0.0</td>\n",
       "      <td>1.0</td>\n",
       "      <td>0.0</td>\n",
       "      <td>0.0</td>\n",
       "      <td>167.0</td>\n",
       "    </tr>\n",
       "    <tr>\n",
       "      <th>3</th>\n",
       "      <td>4.120</td>\n",
       "      <td>0.0</td>\n",
       "      <td>0.0</td>\n",
       "      <td>0.0</td>\n",
       "      <td>0.0</td>\n",
       "      <td>686.0</td>\n",
       "    </tr>\n",
       "    <tr>\n",
       "      <th>4</th>\n",
       "      <td>4.856</td>\n",
       "      <td>0.0</td>\n",
       "      <td>1.0</td>\n",
       "      <td>0.0</td>\n",
       "      <td>0.0</td>\n",
       "      <td>157.0</td>\n",
       "    </tr>\n",
       "  </tbody>\n",
       "</table>\n",
       "</div>"
      ],
      "text/plain": [
       "   interest_rate  credit  march  may  previous  duration\n",
       "0          1.334     0.0    1.0  0.0       0.0     117.0\n",
       "1          0.767     0.0    0.0  2.0       1.0     274.0\n",
       "2          4.858     0.0    1.0  0.0       0.0     167.0\n",
       "3          4.120     0.0    0.0  0.0       0.0     686.0\n",
       "4          4.856     0.0    1.0  0.0       0.0     157.0"
      ]
     },
     "execution_count": 12,
     "metadata": {},
     "output_type": "execute_result"
    }
   ],
   "source": [
    "bank_data_no_y = bank_data.drop(['y'],axis=1)\n",
    "bank_data_no_y.head()"
   ]
  },
  {
   "cell_type": "markdown",
   "metadata": {},
   "source": [
    "## Test the model"
   ]
  },
  {
   "cell_type": "markdown",
   "metadata": {},
   "source": [
    "Load the test data from the ‘Bank_data_testing.csv’ file provided. (Remember to convert the outcome variable ‘y’ into Boolean). "
   ]
  },
  {
   "cell_type": "markdown",
   "metadata": {},
   "source": [
    "### Load new data "
   ]
  },
  {
   "cell_type": "code",
   "execution_count": 13,
   "metadata": {},
   "outputs": [
    {
     "data": {
      "text/html": [
       "<div>\n",
       "<style scoped>\n",
       "    .dataframe tbody tr th:only-of-type {\n",
       "        vertical-align: middle;\n",
       "    }\n",
       "\n",
       "    .dataframe tbody tr th {\n",
       "        vertical-align: top;\n",
       "    }\n",
       "\n",
       "    .dataframe thead th {\n",
       "        text-align: right;\n",
       "    }\n",
       "</style>\n",
       "<table border=\"1\" class=\"dataframe\">\n",
       "  <thead>\n",
       "    <tr style=\"text-align: right;\">\n",
       "      <th></th>\n",
       "      <th>interest_rate</th>\n",
       "      <th>credit</th>\n",
       "      <th>march</th>\n",
       "      <th>may</th>\n",
       "      <th>previous</th>\n",
       "      <th>duration</th>\n",
       "      <th>y</th>\n",
       "    </tr>\n",
       "  </thead>\n",
       "  <tbody>\n",
       "    <tr>\n",
       "      <th>0</th>\n",
       "      <td>1.334</td>\n",
       "      <td>0.0</td>\n",
       "      <td>1.0</td>\n",
       "      <td>0.0</td>\n",
       "      <td>0.0</td>\n",
       "      <td>117.0</td>\n",
       "      <td>0</td>\n",
       "    </tr>\n",
       "    <tr>\n",
       "      <th>1</th>\n",
       "      <td>0.767</td>\n",
       "      <td>0.0</td>\n",
       "      <td>0.0</td>\n",
       "      <td>2.0</td>\n",
       "      <td>1.0</td>\n",
       "      <td>274.0</td>\n",
       "      <td>1</td>\n",
       "    </tr>\n",
       "    <tr>\n",
       "      <th>2</th>\n",
       "      <td>4.858</td>\n",
       "      <td>0.0</td>\n",
       "      <td>1.0</td>\n",
       "      <td>0.0</td>\n",
       "      <td>0.0</td>\n",
       "      <td>167.0</td>\n",
       "      <td>0</td>\n",
       "    </tr>\n",
       "    <tr>\n",
       "      <th>3</th>\n",
       "      <td>4.120</td>\n",
       "      <td>0.0</td>\n",
       "      <td>0.0</td>\n",
       "      <td>0.0</td>\n",
       "      <td>0.0</td>\n",
       "      <td>686.0</td>\n",
       "      <td>1</td>\n",
       "    </tr>\n",
       "    <tr>\n",
       "      <th>4</th>\n",
       "      <td>4.856</td>\n",
       "      <td>0.0</td>\n",
       "      <td>1.0</td>\n",
       "      <td>0.0</td>\n",
       "      <td>0.0</td>\n",
       "      <td>157.0</td>\n",
       "      <td>0</td>\n",
       "    </tr>\n",
       "  </tbody>\n",
       "</table>\n",
       "</div>"
      ],
      "text/plain": [
       "   interest_rate  credit  march  may  previous  duration  y\n",
       "0          1.334     0.0    1.0  0.0       0.0     117.0  0\n",
       "1          0.767     0.0    0.0  2.0       1.0     274.0  1\n",
       "2          4.858     0.0    1.0  0.0       0.0     167.0  0\n",
       "3          4.120     0.0    0.0  0.0       0.0     686.0  1\n",
       "4          4.856     0.0    1.0  0.0       0.0     157.0  0"
      ]
     },
     "execution_count": 13,
     "metadata": {},
     "output_type": "execute_result"
    }
   ],
   "source": [
    "# Load the data\n",
    "bank_data_testing = pd.read_csv('bank-data-testing.csv')\n",
    "\n",
    "# Check the data\n",
    "bank_data_testing.columns\n",
    "bank_data_testing.drop('Unnamed: 0', axis=1,inplace=True)\n",
    "#bank_data.head()\n",
    "#bank_data\n",
    "# Encode outcome column values as numbers\n",
    "bank_data_testing_mapped=bank_data.copy()\n",
    "bank_data_testing_mapped['y']=bank_data_testing_mapped['y'].map({'yes':1,'no':0})\n",
    "bank_data_testing_mapped.head()"
   ]
  },
  {
   "cell_type": "code",
   "execution_count": null,
   "metadata": {},
   "outputs": [],
   "source": []
  },
  {
   "cell_type": "markdown",
   "metadata": {},
   "source": [
    "### Declare the dependent and the independent variables"
   ]
  },
  {
   "cell_type": "code",
   "execution_count": 14,
   "metadata": {},
   "outputs": [],
   "source": [
    "#We are predicting if\n",
    "# the client will subscribe a term deposit\n",
    "# so y column is the y variable\n",
    "# and 'duration' the x variable\n",
    "test_y=bank_data_testing_mapped['y']\n",
    "test_x1=bank_data_testing_mapped[['interest_rate','march','credit','previous','duration']]"
   ]
  },
  {
   "cell_type": "code",
   "execution_count": 15,
   "metadata": {},
   "outputs": [
    {
     "name": "stdout",
     "output_type": "stream",
     "text": [
      "Optimization terminated successfully.\n",
      "         Current function value: 0.336664\n",
      "         Iterations 7\n"
     ]
    },
    {
     "data": {
      "text/html": [
       "<table class=\"simpletable\">\n",
       "<caption>Logit Regression Results</caption>\n",
       "<tr>\n",
       "  <th>Dep. Variable:</th>         <td>y</td>        <th>  No. Observations:  </th>  <td>   518</td>  \n",
       "</tr>\n",
       "<tr>\n",
       "  <th>Model:</th>               <td>Logit</td>      <th>  Df Residuals:      </th>  <td>   512</td>  \n",
       "</tr>\n",
       "<tr>\n",
       "  <th>Method:</th>               <td>MLE</td>       <th>  Df Model:          </th>  <td>     5</td>  \n",
       "</tr>\n",
       "<tr>\n",
       "  <th>Date:</th>          <td>Thu, 15 Aug 2019</td> <th>  Pseudo R-squ.:     </th>  <td>0.5143</td>  \n",
       "</tr>\n",
       "<tr>\n",
       "  <th>Time:</th>              <td>09:51:18</td>     <th>  Log-Likelihood:    </th> <td> -174.39</td> \n",
       "</tr>\n",
       "<tr>\n",
       "  <th>converged:</th>           <td>True</td>       <th>  LL-Null:           </th> <td> -359.05</td> \n",
       "</tr>\n",
       "<tr>\n",
       "  <th> </th>                      <td> </td>        <th>  LLR p-value:       </th> <td>1.211e-77</td>\n",
       "</tr>\n",
       "</table>\n",
       "<table class=\"simpletable\">\n",
       "<tr>\n",
       "        <td></td>           <th>coef</th>     <th>std err</th>      <th>z</th>      <th>P>|z|</th>  <th>[0.025</th>    <th>0.975]</th>  \n",
       "</tr>\n",
       "<tr>\n",
       "  <th>const</th>         <td>   -0.0211</td> <td>    0.311</td> <td>   -0.068</td> <td> 0.946</td> <td>   -0.631</td> <td>    0.589</td>\n",
       "</tr>\n",
       "<tr>\n",
       "  <th>interest_rate</th> <td>   -0.8001</td> <td>    0.089</td> <td>   -8.943</td> <td> 0.000</td> <td>   -0.975</td> <td>   -0.625</td>\n",
       "</tr>\n",
       "<tr>\n",
       "  <th>march</th>         <td>   -1.8322</td> <td>    0.330</td> <td>   -5.556</td> <td> 0.000</td> <td>   -2.478</td> <td>   -1.186</td>\n",
       "</tr>\n",
       "<tr>\n",
       "  <th>credit</th>        <td>    2.3585</td> <td>    1.088</td> <td>    2.169</td> <td> 0.030</td> <td>    0.227</td> <td>    4.490</td>\n",
       "</tr>\n",
       "<tr>\n",
       "  <th>previous</th>      <td>    1.5363</td> <td>    0.501</td> <td>    3.067</td> <td> 0.002</td> <td>    0.554</td> <td>    2.518</td>\n",
       "</tr>\n",
       "<tr>\n",
       "  <th>duration</th>      <td>    0.0070</td> <td>    0.001</td> <td>    9.381</td> <td> 0.000</td> <td>    0.006</td> <td>    0.008</td>\n",
       "</tr>\n",
       "</table>"
      ],
      "text/plain": [
       "<class 'statsmodels.iolib.summary.Summary'>\n",
       "\"\"\"\n",
       "                           Logit Regression Results                           \n",
       "==============================================================================\n",
       "Dep. Variable:                      y   No. Observations:                  518\n",
       "Model:                          Logit   Df Residuals:                      512\n",
       "Method:                           MLE   Df Model:                            5\n",
       "Date:                Thu, 15 Aug 2019   Pseudo R-squ.:                  0.5143\n",
       "Time:                        09:51:18   Log-Likelihood:                -174.39\n",
       "converged:                       True   LL-Null:                       -359.05\n",
       "                                        LLR p-value:                 1.211e-77\n",
       "=================================================================================\n",
       "                    coef    std err          z      P>|z|      [0.025      0.975]\n",
       "---------------------------------------------------------------------------------\n",
       "const            -0.0211      0.311     -0.068      0.946      -0.631       0.589\n",
       "interest_rate    -0.8001      0.089     -8.943      0.000      -0.975      -0.625\n",
       "march            -1.8322      0.330     -5.556      0.000      -2.478      -1.186\n",
       "credit            2.3585      1.088      2.169      0.030       0.227       4.490\n",
       "previous          1.5363      0.501      3.067      0.002       0.554       2.518\n",
       "duration          0.0070      0.001      9.381      0.000       0.006       0.008\n",
       "=================================================================================\n",
       "\"\"\""
      ]
     },
     "execution_count": 15,
     "metadata": {},
     "output_type": "execute_result"
    }
   ],
   "source": [
    "test_x=sm.add_constant(test_x1)\n",
    "test_reg_log=sm.Logit(test_y,test_x)\n",
    "#x\n",
    "test_results_log=test_reg_log.fit()\n",
    "\n",
    "test_results_log.pred_table()\n",
    "\n",
    "test_results_log.summary()"
   ]
  },
  {
   "cell_type": "markdown",
   "metadata": {
    "scrolled": true
   },
   "source": [
    "Determine the test confusion matrix and the test accuracy and compare them with the train confusion matrix and the train accuracy."
   ]
  },
  {
   "cell_type": "code",
   "execution_count": 16,
   "metadata": {},
   "outputs": [
    {
     "data": {
      "text/html": [
       "<div>\n",
       "<style scoped>\n",
       "    .dataframe tbody tr th:only-of-type {\n",
       "        vertical-align: middle;\n",
       "    }\n",
       "\n",
       "    .dataframe tbody tr th {\n",
       "        vertical-align: top;\n",
       "    }\n",
       "\n",
       "    .dataframe thead th {\n",
       "        text-align: right;\n",
       "    }\n",
       "</style>\n",
       "<table border=\"1\" class=\"dataframe\">\n",
       "  <thead>\n",
       "    <tr style=\"text-align: right;\">\n",
       "      <th></th>\n",
       "      <th>interest_rate</th>\n",
       "      <th>credit</th>\n",
       "      <th>march</th>\n",
       "      <th>may</th>\n",
       "      <th>previous</th>\n",
       "      <th>duration</th>\n",
       "    </tr>\n",
       "  </thead>\n",
       "  <tbody>\n",
       "    <tr>\n",
       "      <th>0</th>\n",
       "      <td>1.313</td>\n",
       "      <td>0.0</td>\n",
       "      <td>1.0</td>\n",
       "      <td>0.0</td>\n",
       "      <td>0.0</td>\n",
       "      <td>487.0</td>\n",
       "    </tr>\n",
       "    <tr>\n",
       "      <th>1</th>\n",
       "      <td>4.961</td>\n",
       "      <td>0.0</td>\n",
       "      <td>0.0</td>\n",
       "      <td>0.0</td>\n",
       "      <td>0.0</td>\n",
       "      <td>132.0</td>\n",
       "    </tr>\n",
       "    <tr>\n",
       "      <th>2</th>\n",
       "      <td>4.856</td>\n",
       "      <td>0.0</td>\n",
       "      <td>1.0</td>\n",
       "      <td>0.0</td>\n",
       "      <td>0.0</td>\n",
       "      <td>92.0</td>\n",
       "    </tr>\n",
       "    <tr>\n",
       "      <th>3</th>\n",
       "      <td>4.120</td>\n",
       "      <td>0.0</td>\n",
       "      <td>0.0</td>\n",
       "      <td>0.0</td>\n",
       "      <td>0.0</td>\n",
       "      <td>1468.0</td>\n",
       "    </tr>\n",
       "    <tr>\n",
       "      <th>4</th>\n",
       "      <td>4.963</td>\n",
       "      <td>0.0</td>\n",
       "      <td>0.0</td>\n",
       "      <td>0.0</td>\n",
       "      <td>0.0</td>\n",
       "      <td>36.0</td>\n",
       "    </tr>\n",
       "  </tbody>\n",
       "</table>\n",
       "</div>"
      ],
      "text/plain": [
       "   interest_rate  credit  march  may  previous  duration\n",
       "0          1.313     0.0    1.0  0.0       0.0     487.0\n",
       "1          4.961     0.0    0.0  0.0       0.0     132.0\n",
       "2          4.856     0.0    1.0  0.0       0.0      92.0\n",
       "3          4.120     0.0    0.0  0.0       0.0    1468.0\n",
       "4          4.963     0.0    0.0  0.0       0.0      36.0"
      ]
     },
     "execution_count": 16,
     "metadata": {},
     "output_type": "execute_result"
    }
   ],
   "source": [
    "bank_data_testing_no_y = bank_data_testing.drop(['y'],axis=1)\n",
    "bank_data_testing_no_y.head()"
   ]
  },
  {
   "cell_type": "code",
   "execution_count": 17,
   "metadata": {},
   "outputs": [
    {
     "data": {
      "text/plain": [
       "array([[218.,  41.],\n",
       "       [ 30., 229.]])"
      ]
     },
     "execution_count": 17,
     "metadata": {},
     "output_type": "execute_result"
    }
   ],
   "source": [
    "# cm2 = confusion_matrix(bank_data_testing_no_y,bank_data_testing_mapped['y'],test_results_log)\n",
    "# cm2\n",
    "#bank_data_testing_no_y.head()\n",
    "#bank_data_testing_mapped['y'].head()\n",
    "test_results_log.pred_table()"
   ]
  }
 ],
 "metadata": {
  "kernelspec": {
   "display_name": "Python 3",
   "language": "python",
   "name": "python3"
  },
  "language_info": {
   "codemirror_mode": {
    "name": "ipython",
    "version": 3
   },
   "file_extension": ".py",
   "mimetype": "text/x-python",
   "name": "python",
   "nbconvert_exporter": "python",
   "pygments_lexer": "ipython3",
   "version": "3.6.5"
  }
 },
 "nbformat": 4,
 "nbformat_minor": 2
}
