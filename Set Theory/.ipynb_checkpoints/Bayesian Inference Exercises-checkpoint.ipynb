{
 "cells": [
  {
   "cell_type": "markdown",
   "metadata": {},
   "source": [
    "# Hamilton College Common Data Set:"
   ]
  },
  {
   "cell_type": "markdown",
   "metadata": {},
   "source": [
    "Check Section B- Enrollment and Persistence—showcases enrollment in the college divided into different categories"
   ]
  },
  {
   "cell_type": "markdown",
   "metadata": {},
   "source": [
    "## Table B1: \n",
    "\n",
    "showcases the distribution of students based on their gender"
   ]
  },
  {
   "cell_type": "markdown",
   "metadata": {},
   "source": [
    "Full Time and Part Time students separated by their Gender(Full Time Male students and Full Time Female students in the first 2 columns and Part Time Male/Part Time Female students in the 3rd and 4th columns repsectively)"
   ]
  },
  {
   "cell_type": "markdown",
   "metadata": {},
   "source": [
    "The rows are split into Undergraduates and Graduates. Hamilton is a liberal arts college and offers only Bachelor’s degree. Thus no entries for the Graduate rows. All claims we make will be about undergraduate students. The value 217 represents the intersection of MEN and ‘Degree seeking,first time freshmen’. Similarly 1000 represents the union of all Full Time Undergraduate women in the college. Since there are no graduate students, so 1000 is the union of all full time women students in the entire college."
   ]
  },
  {
   "cell_type": "markdown",
   "metadata": {},
   "source": [
    "Now the union of all women both full time and part time would be 1000+9 or 1009."
   ]
  },
  {
   "cell_type": "markdown",
   "metadata": {},
   "source": [
    "Sets of part time and full time students are mutually exclusive."
   ]
  },
  {
   "cell_type": "markdown",
   "metadata": {},
   "source": [
    "## Table B2:\n",
    "\n",
    "Enrollment by Racial/Ethnic Category:"
   ]
  },
  {
   "cell_type": "markdown",
   "metadata": {},
   "source": [
    "We want to use Bayes law to determine whether the student body is successfully diversifying its population. Therefore we need to use the table to determine whether the freshman class is more diverse than the average for the specific ethnicity"
   ]
  },
  {
   "cell_type": "markdown",
   "metadata": {},
   "source": [
    "Let event A be “Degree seeking first time first year”(Column) and event B being “Black or African American, non-Hispanic(row)”. \n",
    "\n",
    "The total no of students =1897\n",
    "\n",
    "Total no of first years=480"
   ]
  },
  {
   "cell_type": "markdown",
   "metadata": {},
   "source": [
    "### Find the probability(in percentage) of a student being a freshmen? (Answer- 25.3%)"
   ]
  },
  {
   "cell_type": "markdown",
   "metadata": {},
   "source": [
    "$$\\frac{\\text{Total First Year Students}}{\\text{Total Number of Students}} = \\frac{480}{1897} = 0.253 = 25.3\\%$$"
   ]
  },
  {
   "cell_type": "markdown",
   "metadata": {},
   "source": [
    "### Find the probability(in percentage) of a random student in the college being of African-American descent? (Answer- 4.2%)"
   ]
  },
  {
   "cell_type": "markdown",
   "metadata": {},
   "source": [
    "$$\\frac{\\text{Total African-American Students}}{\\text{Total Number of Students}} = \\frac{80}{1897} = 0.042 = 4.2\\%$$"
   ]
  },
  {
   "cell_type": "markdown",
   "metadata": {},
   "source": [
    "### What is the number of all black first year students?"
   ]
  },
  {
   "cell_type": "markdown",
   "metadata": {},
   "source": [
    "26"
   ]
  },
  {
   "cell_type": "markdown",
   "metadata": {},
   "source": [
    "### What is the probability of being a ‘black first year student’?(Answer- 1.4%)"
   ]
  },
  {
   "cell_type": "markdown",
   "metadata": {},
   "source": [
    "$$\n",
    "\\frac{26}{480}\\times\\frac{480}{1897}=\\frac{26}{1897}=0.0137 = 1.4\\%\n",
    "$$"
   ]
  },
  {
   "cell_type": "markdown",
   "metadata": {},
   "source": [
    "### What is the likelihood of a black student being in his first year at the college? (Answer- 32.5%)"
   ]
  },
  {
   "cell_type": "markdown",
   "metadata": {},
   "source": [
    "Total african american students = 80\n",
    "\n",
    "Total african american first year students = 26\n",
    "$$\n",
    "\\frac{26}{80}= 0.325 = 32.5\\%\n",
    "$$"
   ]
  },
  {
   "cell_type": "markdown",
   "metadata": {},
   "source": [
    "### Based upon the answers of above, do you see a rising trend in the representation of minority in the student population?"
   ]
  },
  {
   "cell_type": "markdown",
   "metadata": {},
   "source": []
  },
  {
   "cell_type": "markdown",
   "metadata": {},
   "source": [
    "### What is the union of “First Year” and “Black”? (Answer-534)"
   ]
  },
  {
   "cell_type": "markdown",
   "metadata": {},
   "source": [
    "\n",
    "$$\\text{number of first years} - \\text{number of black first years} + \\text{total number number of black students}\\\\\n",
    "480 - 26 + 80 = 534\n",
    "$$"
   ]
  },
  {
   "cell_type": "markdown",
   "metadata": {},
   "source": [
    "### What is the percentage of student body being freshman or black? (Answer-28.1%)"
   ]
  },
  {
   "cell_type": "markdown",
   "metadata": {},
   "source": [
    "$$ 534\\div 1885\\times 100 = 28.3\\% $$"
   ]
  },
  {
   "cell_type": "markdown",
   "metadata": {},
   "source": [
    "### Take another row(set), all the “Hispanic/Latino” students of the college. The intersection of which set with Hispanic/Latino set yields an Empty set?"
   ]
  },
  {
   "cell_type": "markdown",
   "metadata": {},
   "source": []
  },
  {
   "cell_type": "markdown",
   "metadata": {},
   "source": [
    "### How many number of students identify as either African-American or Latino?"
   ]
  },
  {
   "cell_type": "markdown",
   "metadata": {},
   "source": [
    "$$\\begin{align}\n",
    "\\text{Total affrican american students} &= 80\\\\\n",
    "\\text{Total Hispanic/Latino students} &= 167\\\\\n",
    "&=247\n",
    "\\end{align}\n",
    "$$\n"
   ]
  },
  {
   "cell_type": "markdown",
   "metadata": {},
   "source": [
    "### What is the probability of picking a random student and identify him as either African-American or Latino?(Answer- 13%)"
   ]
  },
  {
   "cell_type": "markdown",
   "metadata": {},
   "source": [
    "$$247\\div 1885 \\times 100 = 13.1 = 13\\% $$"
   ]
  },
  {
   "cell_type": "markdown",
   "metadata": {},
   "source": [
    "### What is the likelihood of being latino given that you are a first year?(Answer-11.9%)"
   ]
  },
  {
   "cell_type": "markdown",
   "metadata": {},
   "source": [
    "$$ 57 \\div 480 \\times 100 = 11.875 = 11.9\\% $$"
   ]
  },
  {
   "cell_type": "markdown",
   "metadata": {},
   "source": [
    "### What is the percentage chance for any Freshmen student to identify as black? (Answer-5.4%)"
   ]
  },
  {
   "cell_type": "markdown",
   "metadata": {},
   "source": [
    "$$ 26 \\div 480 \\times 100 = 5.417 = 5.4\\% $$"
   ]
  },
  {
   "cell_type": "markdown",
   "metadata": {},
   "source": [
    "### What is the percentage chance of being a Freshman given that you are Hispanic?(Answer-33%)"
   ]
  },
  {
   "cell_type": "markdown",
   "metadata": {},
   "source": [
    "$$ 57 \\div 167 \\times 100 = 34.131 = 34\\% $$"
   ]
  },
  {
   "cell_type": "markdown",
   "metadata": {},
   "source": [
    "### What is the likelihood for a male student to be accepted? (24.48%)"
   ]
  },
  {
   "cell_type": "markdown",
   "metadata": {},
   "source": [
    "$$\\begin{align}\n",
    "\\text{Total male applicants} &= 2590\\\\\n",
    "\\text{Total male accepted} &= 634\\\\\n",
    "634 \\div 2590 \\times 100 &= 24.478 = 24.48\\% \n",
    "\\end{align}$$"
   ]
  },
  {
   "cell_type": "markdown",
   "metadata": {},
   "source": [
    "### What is the likelihood for a female student to be accepted?(24%)"
   ]
  },
  {
   "cell_type": "markdown",
   "metadata": {},
   "source": [
    "$$\\begin{align}\n",
    "\\text{Total Female applicants} &= 3088\\\\\n",
    "\\text{Total male accepted} &= 741\\\\\n",
    "741 \\div 3088 \\times 100 &= 23.996 = 24\\% \n",
    "\\end{align}$$"
   ]
  },
  {
   "cell_type": "markdown",
   "metadata": {},
   "source": [
    "### Does gender have an effect on your chances of being accepter?(34.23%)"
   ]
  },
  {
   "cell_type": "markdown",
   "metadata": {},
   "source": []
  },
  {
   "cell_type": "markdown",
   "metadata": {},
   "source": [
    "### Are first time freshmen men or women more likely to enrol?(35.49%)"
   ]
  },
  {
   "cell_type": "markdown",
   "metadata": {},
   "source": []
  },
  {
   "cell_type": "markdown",
   "metadata": {},
   "source": [
    "## Table C2:"
   ]
  },
  {
   "cell_type": "markdown",
   "metadata": {},
   "source": [
    "### What is the likelihood of being offered a place on the waitlist?(22.88% or 30.19%)"
   ]
  },
  {
   "cell_type": "markdown",
   "metadata": {},
   "source": []
  },
  {
   "cell_type": "markdown",
   "metadata": {},
   "source": [
    "### What is the likelihood of getting admitted, having accepted a place on the waitlist?(5.25%)"
   ]
  },
  {
   "cell_type": "markdown",
   "metadata": {},
   "source": []
  },
  {
   "cell_type": "markdown",
   "metadata": {},
   "source": [
    "### What is the likelihood of getting admitted, having been offered a place on the waitlist?(2.54%)"
   ]
  },
  {
   "cell_type": "markdown",
   "metadata": {},
   "source": []
  }
 ],
 "metadata": {
  "kernelspec": {
   "display_name": "Python 3",
   "language": "python",
   "name": "python3"
  },
  "language_info": {
   "codemirror_mode": {
    "name": "ipython",
    "version": 3
   },
   "file_extension": ".py",
   "mimetype": "text/x-python",
   "name": "python",
   "nbconvert_exporter": "python",
   "pygments_lexer": "ipython3",
   "version": "3.6.5"
  }
 },
 "nbformat": 4,
 "nbformat_minor": 2
}
